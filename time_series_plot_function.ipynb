{
 "cells": [
  {
   "cell_type": "code",
   "execution_count": 8,
   "metadata": {},
   "outputs": [],
   "source": [
    "import pandas as pd\n",
    "from yunchieh_plotlib.time_series_plot import time_series_plot\n",
    "import matplotlib.pyplot as plt"
   ]
  },
  {
   "cell_type": "code",
   "execution_count": null,
   "metadata": {},
   "outputs": [],
   "source": [
    "#Function example\n",
    "\n",
    "\n",
    "data = pd.read_parquet(r'C:\\Users\\4019-tjyen\\Desktop\\child-mind-institute-detect-sleep-states\\train_series.parquet')\n",
    "data[\"timestamp\"] = pd.to_datetime(data[\"timestamp\"],errors = \"coerce\")\n",
    "\n",
    "\n",
    "#filter\n",
    "participant_id = \"038441c925bb\"\n",
    "participant_data = data[data[\"series_id\"] == participant_id]\n",
    "\n",
    "fig, ax = plt.subplots(figsize=(10,6))\n",
    "gs = fig.add_gridspec(2, 1)\n",
    "ax = [ax1, ax2]\n",
    "\n",
    "ax1 = fig.add_subplot(gs[0,0])\n",
    "ax2 = fig.add_subplot(gs[1,0])\n",
    "\n",
    "#Angle Z\n",
    "time_series_plot(ax,\n",
    "                 data=participant_data, \n",
    "                 x_column='timestamp', \n",
    "                 y_column='anglez', \n",
    "                 set_title=\"Angle Z Time Series Plot\",\n",
    "                 set_xlabel=\"Date\",\n",
    "                 set_ylabel=\"Sleeping Hours\",\n",
    "                 set_xlim={\"left\": participant_data[\"timestamp\"].min(),\"right\": participant_data[\"timestamp\".max()]},\n",
    "                 tick_params={\"axis\":\"both\", \"which\":\"major\", \"labelsize\":14, \"color\":\"black\"}\n",
    "                 )\n",
    "\n",
    "plt.show()\n",
    "\n",
    "#Enmo\n",
    "time_series_plot(ax,\n",
    "                 data=participant_data, \n",
    "                 x_column='timestamp', \n",
    "                 y_column='enmo', \n",
    "                 set_title=\"Enmo Time Series Plot\",\n",
    "                 set_xlabel=\"Date\",\n",
    "                 set_ylabel=\"Sleeping Hours\",\n",
    "                 set_xlim={\"left\": participant_data[\"timestamp\"].min(),\"right\": participant_data[\"timestamp\".max()]},\n",
    "                 tick_params={\"axis\":\"both\", \"which\":\"major\", \"labelsize\":14, \"color\":\"black\"}\n",
    "                 )\n",
    "\n",
    "\n",
    "plt.show()\n",
    "    "
   ]
  }
 ],
 "metadata": {
  "kernelspec": {
   "display_name": "base",
   "language": "python",
   "name": "python3"
  },
  "language_info": {
   "codemirror_mode": {
    "name": "ipython",
    "version": 3
   },
   "file_extension": ".py",
   "mimetype": "text/x-python",
   "name": "python",
   "nbconvert_exporter": "python",
   "pygments_lexer": "ipython3",
   "version": "3.12.3"
  }
 },
 "nbformat": 4,
 "nbformat_minor": 2
}
