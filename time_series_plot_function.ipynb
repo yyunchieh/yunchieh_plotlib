{
 "cells": [
  {
   "cell_type": "code",
   "execution_count": 1,
   "metadata": {},
   "outputs": [],
   "source": [
    "import pandas as pd\n",
    "import matplotlib.pyplot as plt\n",
    "\n",
    "#Time Series Plot Function\n",
    "def time_series_plot(ax, data, x_column, y_column, **kwargs):\n",
    "    plt.sca(ax)\n",
    "    \n",
    "    ax.plot(data[x_column], data[y_column], color = \"blue\", linewidth=2)\n",
    "\n",
    "    if 'set_title' in kwargs:\n",
    "        ax.set_title(kwargs['set_title'])\n",
    "    \n",
    "    if 'set_xlabel' in kwargs:\n",
    "        ax.set_xlabel(kwargs['set_xlabel'])\n",
    "\n",
    "    if 'set_ylabel' in kwargs:\n",
    "        ax.set_ylabel(kwargs['set_ylabel'])\n",
    "\n",
    "    if 'set_xlim' in kwargs:\n",
    "        ax.set_xlim(kwargs['set_xlim'])\n",
    "\n",
    "    if 'set_ylim' in kwargs:\n",
    "        ax.set_ylim(kwargs['set_ylim'])\n",
    "\n",
    "    if 'set_xticks' in kwargs:\n",
    "        ax.set_xticks(kwargs['set_xticks'])\n",
    "\n",
    "    if 'tick_params' in kwargs:\n",
    "        ax.tick_params(**kwargs['tick_params'])\n",
    "    \n",
    "    ax.spines[\"right\"].set_color(\"none\")\n",
    "    ax.spines[\"top\"].set_color(\"none\")\n"
   ]
  },
  {
   "cell_type": "code",
   "execution_count": null,
   "metadata": {},
   "outputs": [],
   "source": [
    "from yunchieh_plotlib.time_series_plot import time_series_plot"
   ]
  },
  {
   "cell_type": "code",
   "execution_count": 1,
   "metadata": {},
   "outputs": [
    {
     "ename": "NameError",
     "evalue": "name 'pd' is not defined",
     "output_type": "error",
     "traceback": [
      "\u001b[1;31m---------------------------------------------------------------------------\u001b[0m",
      "\u001b[1;31mNameError\u001b[0m                                 Traceback (most recent call last)",
      "Cell \u001b[1;32mIn[1], line 4\u001b[0m\n\u001b[0;32m      1\u001b[0m \u001b[38;5;66;03m#Function example\u001b[39;00m\n\u001b[1;32m----> 4\u001b[0m data \u001b[38;5;241m=\u001b[39m pd\u001b[38;5;241m.\u001b[39mread_parquet(\u001b[38;5;124mr\u001b[39m\u001b[38;5;124m'\u001b[39m\u001b[38;5;124mC:\u001b[39m\u001b[38;5;124m\\\u001b[39m\u001b[38;5;124mUsers\u001b[39m\u001b[38;5;124m\\\u001b[39m\u001b[38;5;124m4019-tjyen\u001b[39m\u001b[38;5;124m\\\u001b[39m\u001b[38;5;124mDesktop\u001b[39m\u001b[38;5;124m\\\u001b[39m\u001b[38;5;124mchild-mind-institute-detect-sleep-states\u001b[39m\u001b[38;5;124m\\\u001b[39m\u001b[38;5;124mtrain_series.parquet\u001b[39m\u001b[38;5;124m'\u001b[39m)\n\u001b[0;32m      5\u001b[0m data[\u001b[38;5;124m\"\u001b[39m\u001b[38;5;124mtimestamp\u001b[39m\u001b[38;5;124m\"\u001b[39m] \u001b[38;5;241m=\u001b[39m pd\u001b[38;5;241m.\u001b[39mto_datetime(data[\u001b[38;5;124m\"\u001b[39m\u001b[38;5;124mtimestamp\u001b[39m\u001b[38;5;124m\"\u001b[39m],errors \u001b[38;5;241m=\u001b[39m \u001b[38;5;124m\"\u001b[39m\u001b[38;5;124mcoerce\u001b[39m\u001b[38;5;124m\"\u001b[39m)\n\u001b[0;32m      8\u001b[0m \u001b[38;5;66;03m#filter\u001b[39;00m\n",
      "\u001b[1;31mNameError\u001b[0m: name 'pd' is not defined"
     ]
    }
   ],
   "source": [
    "#Function example\n",
    "\n",
    "\n",
    "data = pd.read_parquet(r'C:\\Users\\4019-tjyen\\Desktop\\child-mind-institute-detect-sleep-states\\train_series.parquet')\n",
    "data[\"timestamp\"] = pd.to_datetime(data[\"timestamp\"],errors = \"coerce\")\n",
    "\n",
    "\n",
    "#filter\n",
    "participant_id = \"038441c925bb\"\n",
    "participant_data = data[data[\"series_id\"] == participant_id]\n",
    "\n",
    "fig, ax = plt.subplots(figsize=(10,6))\n",
    "gs = fig.add_gridspec(2, 1)\n",
    "ax = [ax1, ax2]\n",
    "\n",
    "ax1 = fig.add_subplot(gs[0,0])\n",
    "ax2 = fig.add_subplot(gs[1,0])\n",
    "\n",
    "#Angle Z\n",
    "time_series_plot(ax,\n",
    "                 data=participant_data, \n",
    "                 x_column='timestamp', \n",
    "                 y_column='anglez', \n",
    "                 set_title=\"Angle Z Time Series Plot\",\n",
    "                 set_xlabel=\"Date\",\n",
    "                 set_ylabel=\"Sleeping Hours\",\n",
    "                 set_xlim={\"left\": participant_data[\"timestamp\"].min(),\"right\": participant_data[\"timestamp\".max()]},\n",
    "                 tick_params={\"axis\":\"both\", \"which\":\"major\", \"labelsize\":14, \"color\":\"black\"}\n",
    "                 )\n",
    "\n",
    "plt.show()\n",
    "\n",
    "#Enmo\n",
    "time_series_plot(ax,\n",
    "                 data=participant_data, \n",
    "                 x_column='timestamp', \n",
    "                 y_column='enmo', \n",
    "                 set_title=\"Enmo Time Series Plot\",\n",
    "                 set_xlabel=\"Date\",\n",
    "                 set_ylabel=\"Sleeping Hours\",\n",
    "                 set_xlim={\"left\": participant_data[\"timestamp\"].min(),\"right\": participant_data[\"timestamp\".max()]},\n",
    "                 tick_params={\"axis\":\"both\", \"which\":\"major\", \"labelsize\":14, \"color\":\"black\"}\n",
    "                 )\n",
    "\n",
    "\n",
    "plt.show()\n",
    "    "
   ]
  },
  {
   "cell_type": "code",
   "execution_count": null,
   "metadata": {},
   "outputs": [],
   "source": []
  }
 ],
 "metadata": {
  "kernelspec": {
   "display_name": "base",
   "language": "python",
   "name": "python3"
  },
  "language_info": {
   "codemirror_mode": {
    "name": "ipython",
    "version": 3
   },
   "file_extension": ".py",
   "mimetype": "text/x-python",
   "name": "python",
   "nbconvert_exporter": "python",
   "pygments_lexer": "ipython3",
   "version": "3.12.3"
  }
 },
 "nbformat": 4,
 "nbformat_minor": 2
}
