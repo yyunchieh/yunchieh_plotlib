{
 "cells": [
  {
   "cell_type": "code",
   "execution_count": 36,
   "metadata": {},
   "outputs": [],
   "source": [
    "import pandas as pd\n",
    "import zipfile"
   ]
  },
  {
   "cell_type": "code",
   "execution_count": 42,
   "metadata": {},
   "outputs": [],
   "source": [
    "zip_path =  r\"C:\\Users\\4019-tjyen\\Desktop\\child-mind-institute-problematic-internet-use.zip\"\n",
    "csv_path = \"train.csv\"\n",
    "output_path = \"missing_values.csv\""
   ]
  },
  {
   "cell_type": "code",
   "execution_count": 43,
   "metadata": {},
   "outputs": [
    {
     "name": "stdout",
     "output_type": "stream",
     "text": [
      "Saved\n"
     ]
    }
   ],
   "source": [
    "#Step 1 : Missing Values\n",
    "\n",
    "with zipfile.ZipFile(zip_path, \"r\") as zip_ref:\n",
    "    with zip_ref.open(csv_path) as file:\n",
    "        data = pd.read_csv(file)\n",
    "\n",
    "\n",
    "total_columns = data.shape[1]\n",
    "total_rows = data.shape[0]\n",
    "missing_values = data.isnull().sum().reset_index()\n",
    "missing_values.columns = [\"Variable\", \"MissingValues\"]\n",
    "\n",
    "missing_values[\"MissingRatio\"] = (missing_values[\"MissingValues\"]/ total_rows) * 100\n",
    "\n",
    "info = pd.DataFrame([[\"Total Variables\", total_columns,\"\"]], columns = [\"Variable\", \"MissingValues\",\"MissingRatio\"])\n",
    "missing_values = pd.concat([info, missing_values], ignore_index=True)\n",
    "\n",
    "missing_values.to_csv(output_path, index=False)\n",
    "\n",
    "print(\"Saved\")"
   ]
  }
 ],
 "metadata": {
  "kernelspec": {
   "display_name": "umap_env",
   "language": "python",
   "name": "python3"
  },
  "language_info": {
   "codemirror_mode": {
    "name": "ipython",
    "version": 3
   },
   "file_extension": ".py",
   "mimetype": "text/x-python",
   "name": "python",
   "nbconvert_exporter": "python",
   "pygments_lexer": "ipython3",
   "version": "3.8.19"
  }
 },
 "nbformat": 4,
 "nbformat_minor": 2
}
